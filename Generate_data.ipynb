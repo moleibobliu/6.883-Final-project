{
 "cells": [
  {
   "cell_type": "code",
   "execution_count": 4,
   "metadata": {},
   "outputs": [],
   "source": [
    "import tensorflow as tf\n",
    "import itertools\n",
    "import numpy as np\n",
    "ds = tf.contrib.distributions"
   ]
  },
  {
   "cell_type": "code",
   "execution_count": 52,
   "metadata": {},
   "outputs": [],
   "source": [
    "import matplotlib.pyplot as plt"
   ]
  },
  {
   "cell_type": "markdown",
   "metadata": {},
   "source": [
    "To generate and save synthetic data:"
   ]
  },
  {
   "cell_type": "code",
   "execution_count": 78,
   "metadata": {},
   "outputs": [],
   "source": [
    "def create_distribution_grid(batch_size, num_components = 25, num_features=2, **kwargs):\n",
    "    cat = ds.Categorical(tf.zeros(num_components, dtype='float32'))\n",
    "    mus = np.array([np.array([i, j]) for i, j in itertools.product(range(-4, 5, 2),\n",
    "                                                           range(-4, 5, 2))],dtype='float32')\n",
    "\n",
    "    s = 0.05\n",
    "    sigmas = [np.array([s,s]).astype('float32') for i in range(num_components)]\n",
    "    components = list((ds.MultivariateNormalDiag(mu, sigma) \n",
    "                       for (mu, sigma) in zip(mus, sigmas)))\n",
    "    data = ds.Mixture(cat, components)\n",
    "    return data.sample(batch_size)\n",
    "\n",
    "def create_distribution_ring(batch_size, num_components = 8, num_features=2, **kwargs):\n",
    "    cat = ds.Categorical(tf.zeros(num_components, dtype='float32'))\n",
    "    mus = np.array([[2,0], [2**0.5,2**0.5], [0,2], [-2**0.5, 2**0.5],\n",
    "                   [-2,0], [-2**0.5, -2**0.5], [0,-2], [2**0.5, -2**0.5]],dtype='float32')\n",
    "\n",
    "    s = 0.05\n",
    "    sigmas = [np.array([s,s]).astype('float32') for i in range(num_components)]\n",
    "    components = list((ds.MultivariateNormalDiag(mu, sigma) \n",
    "                       for (mu, sigma) in zip(mus, sigmas)))\n",
    "    data = ds.Mixture(cat, components)\n",
    "    return data.sample(batch_size)\n",
    "\n",
    "def create_distribution_Hdim(batch_size, num_components = 9, num_features=800, **kwargs):\n",
    "    cat = ds.Categorical(tf.zeros(num_components, dtype='float32'))\n",
    "    mus = np.array([[0 for i in range(500)] + [0 for i in range(300)],[0 for i in range(250)]+[1 for i in range(250)]+[0 for i in range(300)],[1 for i in range(250)]+[0 for i in range(250)]+[0 for i in range(300)], [1 for i in range(500)]+[0 for i in range(300)],\n",
    "                   [-1 for i in range(250)]+[0 for i in range(250)]+[0 for i in range(300)], [0 for i in range(250)]+[-1 for i in range(250)]+[0 for i in range(300)],\n",
    "                   [-1 for i in range(250)]+[1 for i in range(250)]+[0 for i in range(300)], [-1 for i in range(500)]+[0 for i in range(300)],\n",
    "                   [1 for i in range(250)]+[-1 for i in range(250)]+[0 for i in range(300)]], dtype='float32')\n",
    "    s = 0.05\n",
    "    sigmas = [np.array([s for i in range(800)]).astype('float32') for i in range(num_components)]\n",
    "    components = list((ds.MultivariateNormalDiag(mu, sigma) \n",
    "                       for (mu, sigma) in zip(mus, sigmas)))\n",
    "    data = ds.Mixture(cat, components)\n",
    "    return data.sample(batch_size)"
   ]
  },
  {
   "cell_type": "markdown",
   "metadata": {},
   "source": [
    "2D mixture of 25 Gaussian Grid:"
   ]
  },
  {
   "cell_type": "code",
   "execution_count": 34,
   "metadata": {},
   "outputs": [],
   "source": [
    "y = create_distribution_grid(500000)\n",
    "sess = tf.InteractiveSession()\n",
    "y_array = sess.run(y)\n",
    "np.save('2d_grid.npy', y_array)"
   ]
  },
  {
   "cell_type": "code",
   "execution_count": 55,
   "metadata": {
    "scrolled": true
   },
   "outputs": [
    {
     "data": {
      "image/png": "[encoded data removed]",
      "text/plain": [
       "<matplotlib.figure.Figure at 0x1c4f8265c0>"
      ]
     },
     "metadata": {},
     "output_type": "display_data"
    }
   ],
   "source": [
    "fig1 = plt.figure(figsize=(5,5), facecolor='w')\n",
    "plt.scatter(y_array[:, 0], y_array[:, 1], edgecolor='none', alpha=0.5)\n",
    "plt.show()"
   ]
  },
  {
   "cell_type": "markdown",
   "metadata": {},
   "source": [
    "2D mixture of 8 Gaussian Ring:"
   ]
  },
  {
   "cell_type": "code",
   "execution_count": 59,
   "metadata": {},
   "outputs": [],
   "source": [
    "y_ring = create_distribution_ring(500000)\n",
    "sess = tf.InteractiveSession()\n",
    "y_ring_array = sess.run(y_ring)\n",
    "np.save('2d_ring.npy', y_ring_array)"
   ]
  },
  {
   "cell_type": "code",
   "execution_count": 60,
   "metadata": {},
   "outputs": [
    {
     "data": {
      "image/png": "[encoded data removed]",
      "text/plain": [
       "<matplotlib.figure.Figure at 0x1c52aeda58>"
      ]
     },
     "metadata": {},
     "output_type": "display_data"
    }
   ],
   "source": [
    "fig2 = plt.figure(figsize=(5,5), facecolor='w')\n",
    "plt.scatter(y_ring_array[:, 0], y_ring_array[:, 1], edgecolor='none', alpha=0.5)\n",
    "plt.show()"
   ]
  },
  {
   "cell_type": "markdown",
   "metadata": {},
   "source": [
    "Nine 500D Gaussian embedded in 800D space:"
   ]
  },
  {
   "cell_type": "code",
   "execution_count": 79,
   "metadata": {},
   "outputs": [],
   "source": [
    "y_hd = create_distribution_Hdim(500000)\n",
    "sess = tf.InteractiveSession()\n",
    "y_hd_array = sess.run(y_hd)\n",
    "np.save('500d_em800.npy', y_hd_array)"
   ]
  },
  {
   "cell_type": "code",
   "execution_count": 83,
   "metadata": {},
   "outputs": [
    {
     "data": {
      "text/plain": [
       "(500000, 800)"
      ]
     },
     "execution_count": 83,
     "metadata": {},
     "output_type": "execute_result"
    }
   ],
   "source": [
    "np.shape(y_hd_array)"
   ]
  },
  {
   "cell_type": "markdown",
   "metadata": {},
   "source": [
    "Generate test data (each has 100000 samples):"
   ]
  },
  {
   "cell_type": "code",
   "execution_count": 105,
   "metadata": {},
   "outputs": [],
   "source": [
    "y_test = create_distribution_grid(100000)\n",
    "sess = tf.InteractiveSession()\n",
    "y_test_array = sess.run(y_test)\n",
    "np.save('2d_grid_test.npy', y_test_array)"
   ]
  },
  {
   "cell_type": "code",
   "execution_count": 106,
   "metadata": {},
   "outputs": [],
   "source": [
    "y_test = create_distribution_ring(100000)\n",
    "sess = tf.InteractiveSession()\n",
    "y_test_array = sess.run(y_test)\n",
    "np.save('2d_ring_test.npy', y_test_array)"
   ]
  },
  {
   "cell_type": "code",
   "execution_count": 108,
   "metadata": {},
   "outputs": [],
   "source": [
    "y_test = create_distribution_Hdim(100000)\n",
    "sess = tf.InteractiveSession()\n",
    "y_test_array = sess.run(y_test)\n",
    "np.save('2d_hd_test.npy', y_test_array)"
   ]
  },
  {
   "cell_type": "markdown",
   "metadata": {},
   "source": [
    "To load data, devide them into batches, and convert them to tensor:"
   ]
  },
  {
   "cell_type": "code",
   "execution_count": 93,
   "metadata": {},
   "outputs": [],
   "source": [
    "def load_data(filename, batch_size, batch_num):\n",
    "    y = np.load(filename)\n",
    "    batch_list = []\n",
    "    ind_i = 0\n",
    "    for i in range(batch_num):\n",
    "        if ind_i + batch_size <= np.shape(y)[0]:\n",
    "            batch_list.append(tf.convert_to_tensor(y[ind_i:(ind_i + batch_size),:], np.float32))\n",
    "            ind_i = ind_i + batch_size\n",
    "        else:\n",
    "            batch_list.append(tf.convert_to_tensor(y[ind_i:np.shape(y)[0],:], np.float32))\n",
    "            return \n",
    "    return batch_list"
   ]
  },
  {
   "cell_type": "markdown",
   "metadata": {},
   "source": [
    "The load_data function returns a list. Each element of that list is a tensor type data, used as one batch in the training process."
   ]
  },
  {
   "cell_type": "code",
   "execution_count": 104,
   "metadata": {},
   "outputs": [],
   "source": [
    "batch_y_grid = load_data('2d_grid.npy', 500, 1000)"
   ]
  }
 ],
 "metadata": {
  "kernelspec": {
   "display_name": "Python 3",
   "language": "python",
   "name": "python3"
  },
  "language_info": {
   "codemirror_mode": {
    "name": "ipython",
    "version": 3
   },
   "file_extension": ".py",
   "mimetype": "text/x-python",
   "name": "python",
   "nbconvert_exporter": "python",
   "pygments_lexer": "ipython3",
   "version": "3.6.4"
  }
 },
 "nbformat": 4,
 "nbformat_minor": 2
}
